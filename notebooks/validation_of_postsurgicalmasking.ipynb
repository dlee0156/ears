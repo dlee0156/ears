{
 "cells": [
  {
   "cell_type": "markdown",
   "metadata": {},
   "source": [
    "# Determining the Correct Orientation of the Post-Surgical T1 MRI To Feed Into Seg3D\n",
    "\n",
    "Currently, Seg3D outputs segmentations as `.nrrd` files, which seem to also have a fixed RAS orientation. This is a problem if say we would like to overlay the T1 image of the Post-surgery onto the Pre-surgical T1 MRI.\n",
    "\n",
    "For example, if there is a left/right flip, then the surgical segmentation is on the wrong hemisphere of the brain. \n",
    "\n",
    "What our current workflow does is:\n",
    "\n",
    "0. robustfov: any \"neck\" is cropped out of the T1 MRI field of view\n",
    "1. acpcdetect: T1 MRI is acpc aligned and RAS oriented \n",
    "2. coregistration: the Post-surgical T1 (acpc, RAS) is coregistered onto the Pre-surgical T1 MRI (acpc, RAS)\n",
    "3. Seg3D: the coregistered Post-surgical T1 MRI (acpc, RAS) is annotated and outputs a `.nrrd` file with the image volume mask of the surgical segmentation\n",
    "4. coregistration: The coregistered Post-surgical T1 (acpc, RAS) on the pre-surgical T1 MRI is then again coregistered to the FreeSurfer T1 MRI (256^3 LIA orientation, or we can apply whatever process FreeSurfer does. the coregistration here is a hack)\n",
    "5. Apply transformation matrix to the seg3d mask to map it correctly to the FreeSurfer space.\n",
    "\n",
    "Now, the coregistered Post-Surgical T1 from step 4 and the Freesurfer T1 MRI are in the same space and can be overlaid with anatomical masks, white matter masks, etc. \n",
    "\n",
    "## Validation\n",
    "In order to confirm this flow, we currently have Post-Surgical T1 MRI annotated without acpc alignment. It auto orients to RAS. This poses some issues because then the coregistration transformation matrix we apply to get this image to FreeSurfer T1 image is incorrect.\n",
    "\n",
    "We want to run all the above steps, and do a quick visualization of each: Let us use `la02` as an example."
   ]
  },
  {
   "cell_type": "code",
   "execution_count": 1,
   "metadata": {},
   "outputs": [],
   "source": [
    "# load functions\n",
    "import nibabel as nb\n",
    "import numpy as np\n",
    "\n"
   ]
  },
  {
   "cell_type": "code",
   "execution_count": 2,
   "metadata": {},
   "outputs": [],
   "source": [
    "# define certain functions"
   ]
  },
  {
   "cell_type": "markdown",
   "metadata": {},
   "source": [
    "# Load Data\n",
    "\n",
    "Load the data from step 0-5."
   ]
  },
  {
   "cell_type": "code",
   "execution_count": null,
   "metadata": {},
   "outputs": [],
   "source": [
    "### DEFINE FILE PATHS\n",
    "# original T1 MRI nifti files\n",
    "postt1_fpath = ''\n",
    "pret1_fpath = ''\n",
    "\n",
    "# after running robust fov on both of them\n",
    "robustfov_pret1_fpath = ''\n",
    "robustfov_postt1_fpath = ''\n",
    "\n",
    "# after running acpcdetect on both of them\n",
    "acpc_pret1_fpath = ''\n",
    "acpc_postt1_fpath = ''\n",
    "\n",
    "# after coregistration\n",
    "postonpre_t1_fpath = ''\n",
    "\n",
    "# etc.\n"
   ]
  },
  {
   "cell_type": "code",
   "execution_count": 3,
   "metadata": {},
   "outputs": [],
   "source": [
    "# use nibabel and load\n",
    "postt1 = nb.load(postt1_fpath)\n",
    "# etc. fill in\n",
    "\n"
   ]
  },
  {
   "cell_type": "markdown",
   "metadata": {},
   "source": [
    "# Visualization and Basic Analysis\n"
   ]
  },
  {
   "cell_type": "markdown",
   "metadata": {},
   "source": [
    "## RobustFOV"
   ]
  },
  {
   "cell_type": "code",
   "execution_count": null,
   "metadata": {},
   "outputs": [],
   "source": []
  },
  {
   "cell_type": "code",
   "execution_count": null,
   "metadata": {},
   "outputs": [],
   "source": []
  },
  {
   "cell_type": "markdown",
   "metadata": {},
   "source": [
    "## ACPC Detect"
   ]
  },
  {
   "cell_type": "code",
   "execution_count": null,
   "metadata": {},
   "outputs": [],
   "source": []
  },
  {
   "cell_type": "markdown",
   "metadata": {},
   "source": [
    "## First Coregistration Post -> Pre"
   ]
  },
  {
   "cell_type": "code",
   "execution_count": null,
   "metadata": {},
   "outputs": [],
   "source": []
  },
  {
   "cell_type": "markdown",
   "metadata": {},
   "source": [
    "## Seg3D mask of the Post Coregistered to Pre"
   ]
  },
  {
   "cell_type": "code",
   "execution_count": null,
   "metadata": {},
   "outputs": [],
   "source": []
  },
  {
   "cell_type": "markdown",
   "metadata": {},
   "source": [
    "## Second Coregistration Post -> Freesurfer Pre"
   ]
  },
  {
   "cell_type": "code",
   "execution_count": null,
   "metadata": {},
   "outputs": [],
   "source": []
  },
  {
   "cell_type": "markdown",
   "metadata": {},
   "source": [
    "## Seg3D mask mapped to Freesurfer Pre"
   ]
  },
  {
   "cell_type": "code",
   "execution_count": null,
   "metadata": {},
   "outputs": [],
   "source": []
  }
 ],
 "metadata": {
  "kernelspec": {
   "display_name": "neurologic",
   "language": "python",
   "name": "neurologic"
  },
  "language_info": {
   "codemirror_mode": {
    "name": "ipython",
    "version": 3
   },
   "file_extension": ".py",
   "mimetype": "text/x-python",
   "name": "python",
   "nbconvert_exporter": "python",
   "pygments_lexer": "ipython3",
   "version": "3.7.6"
  },
  "toc-autonumbering": true
 },
 "nbformat": 4,
 "nbformat_minor": 4
}
